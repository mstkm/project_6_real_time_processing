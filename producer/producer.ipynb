{
 "cells": [
  {
   "cell_type": "markdown",
   "id": "d2b91c0c-9e1a-4dca-a6b3-090f325573f1",
   "metadata": {},
   "source": [
    "##### **Load Library**"
   ]
  },
  {
   "cell_type": "code",
   "execution_count": null,
   "id": "046afdf0-1dee-42b3-87b3-f0c69f72dfeb",
   "metadata": {},
   "outputs": [],
   "source": [
    "import json\n",
    "import time\n",
    "\n",
    "from kafka import KafkaProducer"
   ]
  },
  {
   "cell_type": "markdown",
   "id": "4a8d0850-cf57-4a12-8f48-ca59fcc5775b",
   "metadata": {},
   "source": [
    "##### **Function Export Data**"
   ]
  },
  {
   "cell_type": "code",
   "execution_count": null,
   "id": "fbeeca70-c8c7-4d2b-ae12-af89d7424828",
   "metadata": {},
   "outputs": [],
   "source": [
    "def json_serializer(data):\n",
    "    return json.dumps(data).encode(\"utf-8\")"
   ]
  },
  {
   "cell_type": "markdown",
   "id": "1e607b77-7bb3-4d2e-b9af-9dd5c2822dfb",
   "metadata": {},
   "source": [
    "##### **Run Process**"
   ]
  },
  {
   "cell_type": "code",
   "execution_count": null,
   "id": "4e57d13e-813f-41b1-9e62-8b7c517c20d9",
   "metadata": {},
   "outputs": [],
   "source": [
    "if __name__ == \"__main__\":\n",
    "    with open('logFraud.json','rb') as file:\n",
    "        file = json.load(file)\n",
    "\n",
    "    producer = KafkaProducer(bootstrap_servers=['34.126.160.212'], value_serializer=json_serializer)\n",
    "    while True:\n",
    "        for data in file:\n",
    "            print(data)\n",
    "            producer.send(\"mugi\", data)\n",
    "            time.sleep(5)"
   ]
  },
  {
   "cell_type": "code",
   "execution_count": null,
   "id": "98d40175-bd49-474a-b12d-9650c354b642",
   "metadata": {},
   "outputs": [],
   "source": []
  }
 ],
 "metadata": {
  "kernelspec": {
   "display_name": "Python 3 (ipykernel)",
   "language": "python",
   "name": "python3"
  },
  "language_info": {
   "codemirror_mode": {
    "name": "ipython",
    "version": 3
   },
   "file_extension": ".py",
   "mimetype": "text/x-python",
   "name": "python",
   "nbconvert_exporter": "python",
   "pygments_lexer": "ipython3",
   "version": "3.8.10"
  }
 },
 "nbformat": 4,
 "nbformat_minor": 5
}
